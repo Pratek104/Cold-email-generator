{
 "cells": [
  {
   "cell_type": "code",
   "execution_count": 1,
   "metadata": {},
   "outputs": [
    {
     "name": "stdout",
     "output_type": "stream",
     "text": [
      "A fascinating topic!\n",
      "\n",
      "In Nepal, Kumari (also known as Kumari Devi or Living Goddess) is a revered deity who is believed to be the embodiment of the goddess Durga, a powerful female deity in Hindu mythology. The Kumari is a young girl who is chosen from a specific caste and family to serve as the living goddess, and is considered to be a symbol of good luck, prosperity, and fertility.\n",
      "\n",
      "Here are some interesting facts about the Kumari:\n",
      "\n",
      "1. **Selection process**: The Kumari is chosen through a rigorous selection process, which involves a series of tests to determine her purity, courage, and wisdom. The selection is made by a council of high-ranking priests and officials.\n",
      "2. **Age limit**: The Kumari must be between the ages of 3 and 12 years old when she is chosen. She is considered to be a virgin and is expected to remain so throughout her tenure as the Kumari.\n",
      "3. **Duties**: As the living goddess, the Kumari is responsible for performing various rituals and ceremonies, including the annual Indra Jatra festival, which is a major festival in Kathmandu. She is also expected to bless devotees and grant them good fortune.\n",
      "4. **Isolation**: The Kumari is isolated from the outside world and is confined to her palace, known as the Kumari Ghar, where she is cared for by a team of attendants. She is not allowed to leave the palace or interact with the outside world.\n",
      "5. **Symbolism**: The Kumari is a symbol of the power and dignity of women in Nepalese society. She is also a reminder of the importance of preserving traditional culture and values.\n",
      "6. **Limitations**: The Kumari's role is limited to performing rituals and ceremonies, and she is not allowed to participate in any worldly activities or make decisions on her own.\n",
      "7. **Tenure**: The Kumari's tenure is typically limited to 5-7 years, after which she is replaced by a new Kumari. The previous Kumari is then retired and is expected to lead a normal life.\n",
      "\n",
      "The Kumari is a unique and fascinating aspect of Nepalese culture, and her presence is an important part of the country's rich cultural heritage.\n"
     ]
    }
   ],
   "source": [
    "from dotenv import load_dotenv\n",
    "import os\n",
    "from langchain_groq import ChatGroq\n",
    "llm = ChatGroq(\n",
    "    temperature=0,\n",
    "    groq_api_key = os.getenv('GROQ_API_KEY'),\n",
    "    model=\"llama3-8b-8192\"\n",
    ")\n",
    "response = llm.invoke(\"tell me somthing about kumari god from nepal\")\n",
    "print(response.content)"
   ]
  },
  {
   "cell_type": "code",
   "execution_count": null,
   "metadata": {},
   "outputs": [],
   "source": []
  }
 ],
 "metadata": {
  "kernelspec": {
   "display_name": "Python 3",
   "language": "python",
   "name": "python3"
  },
  "language_info": {
   "codemirror_mode": {
    "name": "ipython",
    "version": 3
   },
   "file_extension": ".py",
   "mimetype": "text/x-python",
   "name": "python",
   "nbconvert_exporter": "python",
   "pygments_lexer": "ipython3",
   "version": "3.11.2"
  }
 },
 "nbformat": 4,
 "nbformat_minor": 2
}
